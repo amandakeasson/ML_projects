{
 "cells": [
  {
   "cell_type": "code",
   "execution_count": null,
   "metadata": {},
   "outputs": [],
   "source": []
  },
  {
   "cell_type": "markdown",
   "metadata": {},
   "source": [
    "# Genetic algorithms\n",
    "\n",
    "Genetic Algorithm (GA) for Optimization 🚀\n",
    "\n",
    "A Genetic Algorithm (GA) is a heuristic search and optimization technique inspired by natural selection. It mimics evolution by iteratively selecting, combining, and mutating candidate solutions to find the best one.\n",
    "\n",
    "🔹 How a Genetic Algorithm Works\n",
    "\n",
    "1️⃣ Initialization:\n",
    "\n",
    "* Generate a random population of solutions (chromosomes).\n",
    "\n",
    "2️⃣ Evaluation (Fitness Function):\n",
    "\n",
    "* Compute how “good” each solution is using a fitness function.\n",
    "\n",
    "3️⃣ Selection:\n",
    "\n",
    "* Choose the best solutions to pass their genes to the next generation.\n",
    "\n",
    "4️⃣ Crossover (Recombination):\n",
    "\n",
    "* Mix genes from two parent solutions to create new offspring.\n",
    "\n",
    "5️⃣ Mutation:\n",
    "\n",
    "* Introduce small random changes to maintain diversity.\n",
    "\n",
    "6️⃣ Repeat:\n",
    "\n",
    "* Iterate until a stopping condition is met (e.g., max generations or fitness threshold)."
   ]
  },
  {
   "cell_type": "code",
   "execution_count": 2,
   "metadata": {},
   "outputs": [],
   "source": [
    "import numpy as np\n",
    "import pandas as pd\n",
    "from sklearn.datasets import load_breast_cancer\n",
    "from sklearn.model_selection import train_test_split\n",
    "from sklearn.ensemble import RandomForestClassifier\n",
    "from sklearn.metrics import accuracy_score\n",
    "from geneticalgorithm import geneticalgorithm as ga\n",
    "\n",
    "# Load dataset\n",
    "data = load_breast_cancer()\n",
    "X = pd.DataFrame(data.data, columns=data.feature_names)\n",
    "y = data.target\n",
    "\n",
    "# Split dataset\n",
    "X_train, X_test, y_train, y_test = train_test_split(X, y, test_size=0.2, random_state=42)"
   ]
  },
  {
   "cell_type": "markdown",
   "metadata": {},
   "source": [
    "The fitness function trains a model using a subset of selected features and returns the accuracy as the objective to maximize."
   ]
  },
  {
   "cell_type": "code",
   "execution_count": 4,
   "metadata": {},
   "outputs": [],
   "source": [
    "def fitness_function(individual):\n",
    "    \"\"\" \n",
    "    Genetic Algorithm Fitness Function \n",
    "    - individual: binary array (1 = feature selected, 0 = not selected)\n",
    "    \"\"\"\n",
    "    selected_features = [i for i in range(len(individual)) if individual[i] == 1]\n",
    "\n",
    "    # If no features are selected, return a bad fitness score\n",
    "    if len(selected_features) == 0:\n",
    "        return 0  # Minimize error (maximize accuracy)\n",
    "\n",
    "    X_train_selected = X_train.iloc[:, selected_features]\n",
    "    X_test_selected = X_test.iloc[:, selected_features]\n",
    "\n",
    "    # Train classifier\n",
    "    model = RandomForestClassifier(n_estimators=50, random_state=42)\n",
    "    model.fit(X_train_selected, y_train)\n",
    "    y_pred = model.predict(X_test_selected)\n",
    "\n",
    "    # Return negative error (since GA minimizes the objective function)\n",
    "    return -accuracy_score(y_test, y_pred)"
   ]
  },
  {
   "cell_type": "code",
   "execution_count": 5,
   "metadata": {},
   "outputs": [],
   "source": [
    "# set up GA params\n",
    "\n",
    "# Number of features\n",
    "num_features = X.shape[1]\n",
    "\n",
    "# Define GA parameters\n",
    "algorithm_params = {\n",
    "    'max_num_iteration': 100,  # Number of generations\n",
    "    'population_size': 20,  # Number of individuals in each generation\n",
    "    'mutation_probability': 0.2,  # Chance of mutation\n",
    "    'elit_ratio': 0.1,  # Percentage of best individuals retained\n",
    "    'crossover_probability': 0.5,  # Probability of crossover\n",
    "    'parents_portion': 0.3,  # Portion of population that will be parents\n",
    "    'crossover_type': 'uniform',  # Crossover method\n",
    "    'max_iteration_without_improv': 10  # Stop early if no improvement\n",
    "}\n",
    "\n",
    "# Define GA model\n",
    "model = ga(\n",
    "    function=fitness_function,  \n",
    "    dimension=num_features,  \n",
    "    variable_type='bool',  # Binary selection (1 = use feature, 0 = ignore)\n",
    "    algorithm_parameters=algorithm_params\n",
    ")"
   ]
  },
  {
   "cell_type": "code",
   "execution_count": 6,
   "metadata": {},
   "outputs": [
    {
     "name": "stdout",
     "output_type": "stream",
     "text": [
      " The best solution found:                                                                           \n",
      " [1. 0. 0. 1. 1. 0. 1. 0. 1. 1. 1. 1. 0. 0. 0. 0. 1. 0. 0. 0. 1. 0. 1. 1.\n",
      " 1. 0. 1. 0. 0. 0.]\n",
      "\n",
      " Objective function:\n",
      " -0.9912280701754386\n"
     ]
    },
    {
     "data": {
      "image/png": "[encoded data removed]",
      "text/plain": [
       "<Figure size 640x480 with 1 Axes>"
      ]
     },
     "metadata": {},
     "output_type": "display_data"
    },
    {
     "name": "stdout",
     "output_type": "stream",
     "text": [
      "\n",
      "Warning: GA is terminated due to the maximum number of iterations without improvement was met!Selected Features: ['mean radius', 'mean area', 'mean smoothness', 'mean concavity', 'mean symmetry', 'mean fractal dimension', 'radius error', 'texture error', 'concavity error', 'worst radius', 'worst perimeter', 'worst area', 'worst smoothness', 'worst concavity']\n"
     ]
    }
   ],
   "source": [
    "# Run the optimization\n",
    "model.run()\n",
    "\n",
    "# Get the best solution\n",
    "best_solution = model.output_dict['variable']\n",
    "selected_features = [X.columns[i] for i in range(num_features) if best_solution[i] == 1]\n",
    "\n",
    "print(f\"Selected Features: {selected_features}\")"
   ]
  },
  {
   "cell_type": "code",
   "execution_count": null,
   "metadata": {},
   "outputs": [],
   "source": []
  },
  {
   "cell_type": "markdown",
   "metadata": {},
   "source": [
    "# Fraud dataset"
   ]
  },
  {
   "cell_type": "code",
   "execution_count": 51,
   "metadata": {},
   "outputs": [
    {
     "name": "stdout",
     "output_type": "stream",
     "text": [
      "Dataset shape after resampling: (568630, 29)\n"
     ]
    }
   ],
   "source": [
    "import numpy as np\n",
    "import pandas as pd\n",
    "from sklearn.model_selection import train_test_split\n",
    "from sklearn.ensemble import RandomForestClassifier\n",
    "from sklearn.metrics import accuracy_score, f1_score\n",
    "from geneticalgorithm import geneticalgorithm as ga\n",
    "from imblearn.over_sampling import SMOTE\n",
    "from sklearn.preprocessing import StandardScaler\n",
    "from sklearn.datasets import fetch_openml\n",
    "\n",
    "# Load dataset (Credit Card Fraud Detection from OpenML)\n",
    "df = fetch_openml(name=\"creditcard\", version=1, as_frame=True).frame\n",
    "\n",
    "# Standardize 'Amount' feature\n",
    "df[\"Amount\"] = StandardScaler().fit_transform(df[[\"Amount\"]])\n",
    "\n",
    "# Extract features and target variable\n",
    "X = df.drop(columns=[\"Class\"])  # Remove 'Time' and target 'Class'\n",
    "y = df[\"Class\"]  # 1 = Fraud, 0 = Non-Fraud\n",
    "\n",
    "# Handle class imbalance using SMOTE (Synthetic Minority Over-sampling Technique)\n",
    "smote = SMOTE(random_state=42)\n",
    "X_resampled, y_resampled = smote.fit_resample(X, y)\n",
    "\n",
    "# Split dataset\n",
    "X_train, X_test, y_train, y_test = train_test_split(X_resampled, y_resampled, test_size=0.2, random_state=42)\n",
    "\n",
    "y_train = y_train.astype('int')\n",
    "y_test = y_test.astype('int')\n",
    "\n",
    "print(f\"Dataset shape after resampling: {X_resampled.shape}\")\n"
   ]
  },
  {
   "cell_type": "code",
   "execution_count": 52,
   "metadata": {},
   "outputs": [],
   "source": [
    "# fitness function using ML model\n",
    "\n",
    "def fitness_function(individual):\n",
    "    \"\"\" Genetic Algorithm Fitness Function for Fraud Detection \"\"\"\n",
    "    selected_features = [i for i in range(len(individual)) if individual[i] == 1]\n",
    "\n",
    "    # If no features are selected, return a poor fitness score\n",
    "    if len(selected_features) == 0:\n",
    "        return 0\n",
    "    \n",
    "    X_train_selected = X_train.iloc[:, selected_features]\n",
    "    X_test_selected = X_test.iloc[:, selected_features]\n",
    "\n",
    "    # Train model\n",
    "    model = RandomForestClassifier(n_estimators=50, random_state=42)\n",
    "    model.fit(X_train_selected, y_train)\n",
    "    y_pred = model.predict(X_test_selected)\n",
    "\n",
    "    # Evaluate using F1-score (important for imbalanced fraud data)\n",
    "    return -f1_score(y_test, y_pred)  # GA minimizes this, so we negate it"
   ]
  },
  {
   "cell_type": "code",
   "execution_count": 53,
   "metadata": {},
   "outputs": [
    {
     "name": "stdout",
     "output_type": "stream",
     "text": [
      "given function is not applicable\n"
     ]
    },
    {
     "ename": "AssertionError",
     "evalue": "After 10.0 seconds delay func_timeout: the given function does not provide any output",
     "output_type": "error",
     "traceback": [
      "\u001b[0;31m---------------------------------------------------------------------------\u001b[0m",
      "\u001b[0;31mAssertionError\u001b[0m                            Traceback (most recent call last)",
      "Cell \u001b[0;32mIn[53], line 25\u001b[0m\n\u001b[1;32m     17\u001b[0m model \u001b[38;5;241m=\u001b[39m ga(\n\u001b[1;32m     18\u001b[0m     function\u001b[38;5;241m=\u001b[39mfitness_function,\n\u001b[1;32m     19\u001b[0m     dimension\u001b[38;5;241m=\u001b[39mnum_features,\n\u001b[1;32m     20\u001b[0m     variable_type\u001b[38;5;241m=\u001b[39m\u001b[38;5;124m'\u001b[39m\u001b[38;5;124mbool\u001b[39m\u001b[38;5;124m'\u001b[39m,  \u001b[38;5;66;03m# Binary: 1 = feature selected, 0 = not selected\u001b[39;00m\n\u001b[1;32m     21\u001b[0m     algorithm_parameters\u001b[38;5;241m=\u001b[39malgorithm_params\n\u001b[1;32m     22\u001b[0m )\n\u001b[1;32m     24\u001b[0m \u001b[38;5;66;03m# Run GA\u001b[39;00m\n\u001b[0;32m---> 25\u001b[0m \u001b[43mmodel\u001b[49m\u001b[38;5;241;43m.\u001b[39;49m\u001b[43mrun\u001b[49m\u001b[43m(\u001b[49m\u001b[43m)\u001b[49m\n\u001b[1;32m     27\u001b[0m \u001b[38;5;66;03m# Get the best feature subset\u001b[39;00m\n\u001b[1;32m     28\u001b[0m best_solution \u001b[38;5;241m=\u001b[39m model\u001b[38;5;241m.\u001b[39moutput_dict[\u001b[38;5;124m'\u001b[39m\u001b[38;5;124mvariable\u001b[39m\u001b[38;5;124m'\u001b[39m]\n",
      "File \u001b[0;32m~/Documents/projects/venv/lib/python3.9/site-packages/geneticalgorithm/geneticalgorithm.py:303\u001b[0m, in \u001b[0;36mgeneticalgorithm.run\u001b[0;34m(self)\u001b[0m\n\u001b[1;32m    298\u001b[0m     var[i]\u001b[38;5;241m=\u001b[39m\u001b[38;5;28mself\u001b[39m\u001b[38;5;241m.\u001b[39mvar_bound[i][\u001b[38;5;241m0\u001b[39m]\u001b[38;5;241m+\u001b[39mnp\u001b[38;5;241m.\u001b[39mrandom\u001b[38;5;241m.\u001b[39mrandom()\u001b[38;5;241m*\u001b[39m\\\n\u001b[1;32m    299\u001b[0m     (\u001b[38;5;28mself\u001b[39m\u001b[38;5;241m.\u001b[39mvar_bound[i][\u001b[38;5;241m1\u001b[39m]\u001b[38;5;241m-\u001b[39m\u001b[38;5;28mself\u001b[39m\u001b[38;5;241m.\u001b[39mvar_bound[i][\u001b[38;5;241m0\u001b[39m])    \n\u001b[1;32m    300\u001b[0m     solo[i]\u001b[38;5;241m=\u001b[39mvar[i]\u001b[38;5;241m.\u001b[39mcopy()\n\u001b[0;32m--> 303\u001b[0m obj\u001b[38;5;241m=\u001b[39m\u001b[38;5;28;43mself\u001b[39;49m\u001b[38;5;241;43m.\u001b[39;49m\u001b[43msim\u001b[49m\u001b[43m(\u001b[49m\u001b[43mvar\u001b[49m\u001b[43m)\u001b[49m            \n\u001b[1;32m    304\u001b[0m solo[\u001b[38;5;28mself\u001b[39m\u001b[38;5;241m.\u001b[39mdim]\u001b[38;5;241m=\u001b[39mobj\n\u001b[1;32m    305\u001b[0m pop[p]\u001b[38;5;241m=\u001b[39msolo\u001b[38;5;241m.\u001b[39mcopy()\n",
      "File \u001b[0;32m~/Documents/projects/venv/lib/python3.9/site-packages/geneticalgorithm/geneticalgorithm.py:545\u001b[0m, in \u001b[0;36mgeneticalgorithm.sim\u001b[0;34m(self, X)\u001b[0m\n\u001b[1;32m    543\u001b[0m \u001b[38;5;28;01mexcept\u001b[39;00m FunctionTimedOut:\n\u001b[1;32m    544\u001b[0m     \u001b[38;5;28mprint\u001b[39m(\u001b[38;5;124m\"\u001b[39m\u001b[38;5;124mgiven function is not applicable\u001b[39m\u001b[38;5;124m\"\u001b[39m)\n\u001b[0;32m--> 545\u001b[0m \u001b[38;5;28;01massert\u001b[39;00m (obj\u001b[38;5;241m!=\u001b[39m\u001b[38;5;28;01mNone\u001b[39;00m), \u001b[38;5;124m\"\u001b[39m\u001b[38;5;124mAfter \u001b[39m\u001b[38;5;124m\"\u001b[39m\u001b[38;5;241m+\u001b[39m\u001b[38;5;28mstr\u001b[39m(\u001b[38;5;28mself\u001b[39m\u001b[38;5;241m.\u001b[39mfuntimeout)\u001b[38;5;241m+\u001b[39m\u001b[38;5;124m\"\u001b[39m\u001b[38;5;124m seconds delay \u001b[39m\u001b[38;5;124m\"\u001b[39m\u001b[38;5;241m+\u001b[39m\\\n\u001b[1;32m    546\u001b[0m         \u001b[38;5;124m\"\u001b[39m\u001b[38;5;124mfunc_timeout: the given function does not provide any output\u001b[39m\u001b[38;5;124m\"\u001b[39m\n\u001b[1;32m    547\u001b[0m \u001b[38;5;28;01mreturn\u001b[39;00m obj\n",
      "\u001b[0;31mAssertionError\u001b[0m: After 10.0 seconds delay func_timeout: the given function does not provide any output"
     ]
    }
   ],
   "source": [
    "# Number of features\n",
    "num_features = X.shape[1]\n",
    "\n",
    "# Define GA parameters\n",
    "algorithm_params = {\n",
    "    'max_num_iteration': 50,  # Generations\n",
    "    'population_size': 20,  # Population size\n",
    "    'mutation_probability': 0.2,  # Mutation probability\n",
    "    'elit_ratio': 0.1,  # Best individuals retained\n",
    "    'crossover_probability': 0.5,  # Crossover probability\n",
    "    'parents_portion': 0.3,  # Portion of population as parents\n",
    "    'crossover_type': 'uniform',  # Crossover method\n",
    "    'max_iteration_without_improv': 10  # Stop early if no improvement\n",
    "}\n",
    "\n",
    "# Define GA model\n",
    "model = ga(\n",
    "    function=fitness_function,\n",
    "    dimension=num_features,\n",
    "    variable_type='bool',  # Binary: 1 = feature selected, 0 = not selected\n",
    "    algorithm_parameters=algorithm_params\n",
    ")\n",
    "\n",
    "# Run GA\n",
    "model.run()\n",
    "\n",
    "# Get the best feature subset\n",
    "best_solution = model.output_dict['variable']\n",
    "selected_features = [X.columns[i] for i in range(num_features) if best_solution[i] == 1]\n",
    "\n",
    "print(f\"Selected Features: {selected_features}\")"
   ]
  },
  {
   "cell_type": "code",
   "execution_count": 54,
   "metadata": {},
   "outputs": [],
   "source": [
    "# fitness function - maximize fraud detection; impose constraint on FPR\n",
    "# assumes >= for all thresholds - not necessarily the case \n",
    "\n",
    "def fitness_function(individual):\n",
    "    \"\"\" \n",
    "    Genetic Algorithm Fitness Function (Maximizes Fraud Detection) \n",
    "    - Optimizes feature thresholds for classification\n",
    "    - Constrains False Positive Rate (FPR)\n",
    "    \"\"\"\n",
    "    \n",
    "    thresholds = np.array(individual)  # Thresholds for each feature\n",
    "    predictions = (X_train.values >= thresholds).astype(int)  # Apply thresholding\n",
    "    fraud_scores = predictions.sum(axis=1)  # Sum rule (higher score = more fraudulent)\n",
    "\n",
    "    # Define a threshold to classify transactions as fraud (e.g., if 3+ features exceed thresholds)\n",
    "    fraud_threshold = 3\n",
    "    y_pred = (fraud_scores >= fraud_threshold).astype(int)\n",
    "\n",
    "    # Compute True Positives (TP), False Positives (FP), and False Negatives (FN)\n",
    "    TP = np.sum((y_pred == 1) & (y_train == 1))\n",
    "    FP = np.sum((y_pred == 1) & (y_train == 0))\n",
    "    FN = np.sum((y_pred == 0) & (y_train == 1))\n",
    "\n",
    "    # Compute True Positive Rate (TPR) = TP / (TP + FN)\n",
    "    TPR = TP / (TP + FN + 1e-6)  # Avoid division by zero\n",
    "\n",
    "    # Compute False Positive Rate (FPR) = FP / (FP + TN)\n",
    "    TN = np.sum((y_pred == 0) & (y_train == 0))\n",
    "    FPR = FP / (FP + TN + 1e-6)  \n",
    "\n",
    "    # Set FPR constraint (e.g., penalize solutions where FPR > 5%)\n",
    "    FPR_constraint = 0.05\n",
    "    penalty = 1000 if FPR > FPR_constraint else 0  # Add a large penalty if FPR is too high\n",
    "\n",
    "    return -(TPR - penalty)  # Maximize TPR while avoiding high FPR"
   ]
  },
  {
   "cell_type": "code",
   "execution_count": 55,
   "metadata": {},
   "outputs": [
    {
     "name": "stdout",
     "output_type": "stream",
     "text": [
      " The best solution found:                                                                           \n",
      " [0. 1. 1. 1. 0. 0. 0. 1. 1. 0. 0. 1. 1. 0. 0. 0. 0. 0. 0. 1. 0. 1. 1. 1.\n",
      " 1. 0. 1. 1. 0.]\n",
      "\n",
      " Objective function:\n",
      " 999.0000000000044\n"
     ]
    },
    {
     "data": {
      "image/png": "[encoded data removed]",
      "text/plain": [
       "<Figure size 640x480 with 1 Axes>"
      ]
     },
     "metadata": {},
     "output_type": "display_data"
    },
    {
     "name": "stdout",
     "output_type": "stream",
     "text": [
      "\n",
      "Warning: GA is terminated due to the maximum number of iterations without improvement was met!\n",
      "Selected Features: ['V2', 'V3', 'V4', 'V8', 'V9', 'V12', 'V13', 'V20', 'V22', 'V23', 'V24', 'V25', 'V27', 'V28']\n"
     ]
    }
   ],
   "source": [
    "# Number of features\n",
    "num_features = X.shape[1]\n",
    "\n",
    "# Define GA parameters\n",
    "algorithm_params = {\n",
    "    'max_num_iteration': 50,  # Generations\n",
    "    'population_size': 20,  # Population size\n",
    "    'mutation_probability': 0.2,  # Mutation probability\n",
    "    'elit_ratio': 0.1,  # Best individuals retained\n",
    "    'crossover_probability': 0.5,  # Crossover probability\n",
    "    'parents_portion': 0.3,  # Portion of population as parents\n",
    "    'crossover_type': 'uniform',  # Crossover method\n",
    "    'max_iteration_without_improv': 10  # Stop early if no improvement\n",
    "}\n",
    "\n",
    "# Define GA model\n",
    "model = ga(\n",
    "    function=fitness_function,\n",
    "    dimension=num_features,\n",
    "    variable_type='bool',  # Binary: 1 = feature selected, 0 = not selected\n",
    "    algorithm_parameters=algorithm_params\n",
    ")\n",
    "\n",
    "# Run GA\n",
    "model.run()\n",
    "\n",
    "# Get the best feature subset\n",
    "best_solution = model.output_dict['variable']\n",
    "selected_features = [X.columns[i] for i in range(num_features) if best_solution[i] == 1]\n",
    "\n",
    "print(f\"\\nSelected Features: {selected_features}\")"
   ]
  },
  {
   "cell_type": "markdown",
   "metadata": {},
   "source": [
    "### Example 3 - feature cutoffs, maximize detection with constraint on FPR"
   ]
  },
  {
   "cell_type": "code",
   "execution_count": 56,
   "metadata": {},
   "outputs": [],
   "source": [
    "from sklearn.metrics import confusion_matrix\n",
    "import numpy as np\n",
    "\n",
    "def fitness_function(thresholds):\n",
    "    # Create rules based on thresholds\n",
    "    # Each feature in X_train corresponds to a threshold\n",
    "    # If a feature's value exceeds the threshold, mark as fraud (1), otherwise no fraud (0)\n",
    "    \n",
    "    # Initialize the predictions vector\n",
    "    y_pred = np.zeros_like(y_train)\n",
    "    \n",
    "    # Iterate over each feature and apply the threshold rule\n",
    "    for i in range(len(thresholds)):\n",
    "        feature_values = X_train.iloc[:, i]\n",
    "        y_pred += (feature_values > thresholds[i])  # Increment fraud prediction if feature exceeds threshold\n",
    "    \n",
    "    # Apply majority rule: if more than half of the features exceed the threshold, classify as fraud\n",
    "    y_pred = (y_pred > (len(thresholds) / 2)).astype(int)  # Majority rule for classifying fraud (1) or not (0)\n",
    "    \n",
    "    # Calculate confusion matrix: TN, FP, FN, TP\n",
    "    tn, fp, fn, tp = confusion_matrix(y_train, y_pred).ravel()\n",
    "    \n",
    "    # Calculate precision, recall, and false positive rate\n",
    "    precision = tp / (tp + fp) if (tp + fp) > 0 else 0\n",
    "    recall = tp / (tp + fn) if (tp + fn) > 0 else 0\n",
    "    fpr = fp / (fp + tn) if (fp + tn) > 0 else 0\n",
    "    \n",
    "    # Fitness function: Maximize recall (fraud detection) and precision, minimize FPR\n",
    "    if fpr > 0.2:  # Example FPR constraint (adjust as needed)\n",
    "        return 0  # Return 0 if FPR constraint is violated\n",
    "    \n",
    "    # Combine precision and recall for a fitness score (can also use F1-score if preferred)\n",
    "    fitness_score = (precision + recall) / 2  # Balance between precision and recall\n",
    "    \n",
    "    return fitness_score"
   ]
  },
  {
   "cell_type": "code",
   "execution_count": 58,
   "metadata": {},
   "outputs": [
    {
     "name": "stdout",
     "output_type": "stream",
     "text": [
      " The best solution found:                                                                           \n",
      " [4.40024879e-01 6.82383790e-01 3.48060986e-01 6.20768109e-04\n",
      " 5.38276208e-01 8.78739295e-01 8.18707748e-02 7.14018630e-01\n",
      " 5.86809962e-01 4.08074497e-01 2.24427509e-01 8.78470137e-01\n",
      " 7.64041756e-01 4.23352131e-01 3.28346260e-01 8.23687142e-01\n",
      " 5.06599763e-01 1.14098092e-01 5.20852961e-01 9.69708080e-01\n",
      " 8.94862659e-01 5.62628315e-02 9.57344277e-01 6.62220912e-01\n",
      " 6.59776019e-01 7.65667072e-01 6.69615548e-01 3.84337752e-01\n",
      " 9.10174215e-01]\n",
      "\n",
      " Objective function:\n",
      " 0.0\n"
     ]
    },
    {
     "data": {
      "image/png": "[encoded data removed]",
      "text/plain": [
       "<Figure size 640x480 with 1 Axes>"
      ]
     },
     "metadata": {},
     "output_type": "display_data"
    },
    {
     "name": "stdout",
     "output_type": "stream",
     "text": [
      "\n",
      "Warning: GA is terminated due to the maximum number of iterations without improvement was met!\n",
      "Optimal Feature Thresholds:\n",
      "V1: 0.44\n",
      "V2: 0.68\n",
      "V3: 0.35\n",
      "V4: 0.00\n",
      "V5: 0.54\n",
      "V6: 0.88\n",
      "V7: 0.08\n",
      "V8: 0.71\n",
      "V9: 0.59\n",
      "V10: 0.41\n",
      "V11: 0.22\n",
      "V12: 0.88\n",
      "V13: 0.76\n",
      "V14: 0.42\n",
      "V15: 0.33\n",
      "V16: 0.82\n",
      "V17: 0.51\n",
      "V18: 0.11\n",
      "V19: 0.52\n",
      "V20: 0.97\n",
      "V21: 0.89\n",
      "V22: 0.06\n",
      "V23: 0.96\n",
      "V24: 0.66\n",
      "V25: 0.66\n",
      "V26: 0.77\n",
      "V27: 0.67\n",
      "V28: 0.38\n",
      "Amount: 0.91\n"
     ]
    }
   ],
   "source": [
    "from geneticalgorithm import geneticalgorithm as ga\n",
    "import numpy as np\n",
    "\n",
    "# Define number of features\n",
    "num_features = X_train.shape[1]\n",
    "\n",
    "# Define the variable boundaries and types (thresholds for each feature between 0 and 1)\n",
    "var_boundaries = np.array([[0, 1]] * num_features)  # Thresholds for each feature\n",
    "\n",
    "# Define the variable types as NumPy array of tuples (we use 'float' for threshold values)\n",
    "# var_types = np.array([('float', [0, 1])] * num_features, dtype=object) # this is incorrect\n",
    "#var_types = np.array([('float', [0, 1]) for i in range(num_features)], dtype=object)\n",
    "var_types = np.array(['real' for i in range(num_features)], dtype=object)\n",
    "\n",
    "# Configure GA parameters\n",
    "algorithm_params = {\n",
    "    'max_num_iteration': 20,  # Number of generations\n",
    "    'population_size': 10,  # Number of individuals per generation\n",
    "    'mutation_probability': 0.2,  \n",
    "    'elit_ratio': 0.1,  \n",
    "    'crossover_probability': 0.5,  \n",
    "    'parents_portion': 0.3,  \n",
    "    'crossover_type': 'uniform',  \n",
    "    'max_iteration_without_improv': 5  \n",
    "}\n",
    "\n",
    "# Define the GA optimization model\n",
    "model = ga(\n",
    "    function=fitness_function,\n",
    "    dimension=num_features,  # Number of features\n",
    "    variable_type_mixed=var_types,  # Use NumPy array for variable types\n",
    "    variable_boundaries=var_boundaries,  # Thresholds for each feature\n",
    "    algorithm_parameters=algorithm_params\n",
    ")\n",
    "\n",
    "# Run GA optimization\n",
    "model.run()\n",
    "\n",
    "# Get the best thresholds (optimal solution)\n",
    "best_thresholds = model.output_dict['variable']\n",
    "\n",
    "# Print the optimal thresholds for each feature\n",
    "print(\"\\nOptimal Feature Thresholds:\")\n",
    "for feature, threshold in zip(X_train.columns, best_thresholds):\n",
    "    print(f\"{feature}: {threshold:.2f}\")"
   ]
  }
 ],
 "metadata": {
  "kernelspec": {
   "display_name": "venv",
   "language": "python",
   "name": "python3"
  },
  "language_info": {
   "codemirror_mode": {
    "name": "ipython",
    "version": 3
   },
   "file_extension": ".py",
   "mimetype": "text/x-python",
   "name": "python",
   "nbconvert_exporter": "python",
   "pygments_lexer": "ipython3",
   "version": "3.9.6"
  }
 },
 "nbformat": 4,
 "nbformat_minor": 2
}
