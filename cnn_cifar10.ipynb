{
  "nbformat": 4,
  "nbformat_minor": 0,
  "metadata": {
    "colab": {
      "name": "cnn_cifar10.ipynb",
      "version": "0.3.2",
      "provenance": []
    },
    "language_info": {
      "codemirror_mode": {
        "name": "ipython",
        "version": 3
      },
      "file_extension": ".py",
      "mimetype": "text/x-python",
      "name": "python",
      "nbconvert_exporter": "python",
      "pygments_lexer": "ipython3",
      "version": "3.6.8"
    },
    "kernelspec": {
      "name": "python3",
      "display_name": "Python 3"
    },
    "accelerator": "GPU"
  },
  "cells": [
    {
      "metadata": {
        "id": "EItZAeAcbfho",
        "colab_type": "text"
      },
      "cell_type": "markdown",
      "source": [
        "# Convolutional Neural Networks"
      ]
    },
    {
      "metadata": {
        "id": "I04c9PFJbfhp",
        "colab_type": "code",
        "colab": {}
      },
      "cell_type": "code",
      "source": [
        "import math\n",
        "import numpy as np\n",
        "import matplotlib.pyplot as plt\n",
        "import tensorflow as tf\n",
        "\n",
        "%matplotlib inline"
      ],
      "execution_count": 0,
      "outputs": []
    },
    {
      "metadata": {
        "id": "OHnawNjVbfht",
        "colab_type": "code",
        "colab": {}
      },
      "cell_type": "code",
      "source": [
        "# option 1: MNIST\n",
        "(X_train, Y_train), (X_test, Y_test) = tf.keras.datasets.mnist.load_data()\n",
        "X_train = np.reshape(X_train, [-1, 28, 28, 1])/255.\n",
        "X_test = np.reshape(X_test, [-1, 28, 28, 1])/255."
      ],
      "execution_count": 0,
      "outputs": []
    },
    {
      "metadata": {
        "id": "Uji6BsH2bfhw",
        "colab_type": "code",
        "colab": {}
      },
      "cell_type": "code",
      "source": [
        "# option 2: CIFAR10\n",
        "proportion_to_use = 0.3\n",
        "(X_train, Y_train), (X_test, Y_test) = tf.keras.datasets.cifar10.load_data()\n",
        "Y_train = Y_train[0:int(np.shape(Y_train)[0]*proportion_to_use),0]\n",
        "Y_test = Y_test[0:int(np.shape(Y_test)[0]*proportion_to_use),0]\n",
        "X_train = X_train[0:int(np.shape(X_train)[0]*proportion_to_use),:]/255.\n",
        "X_test = X_test[0:int(np.shape(X_test)[0]*proportion_to_use),:]/255."
      ],
      "execution_count": 0,
      "outputs": []
    },
    {
      "metadata": {
        "id": "yYrUoyzsbfhz",
        "colab_type": "code",
        "colab": {}
      },
      "cell_type": "code",
      "source": [
        "def random_mini_batches(X, Y, mini_batch_size = 64, seed = 0):\n",
        "\n",
        "    m = X.shape[0]                  # number of training examples\n",
        "    mini_batches = []\n",
        "    np.random.seed(seed)\n",
        "\n",
        "    # Step 1: Shuffle (X, Y)\n",
        "    permutation = list(np.random.permutation(m))\n",
        "    shuffled_X = X[permutation,:,:,:]\n",
        "    shuffled_Y = Y[permutation]\n",
        "\n",
        "    # Step 2: Partition (shuffled_X, shuffled_Y). Minus the end case.\n",
        "    num_complete_minibatches = math.floor(m/mini_batch_size) # number of mini batches of size mini_batch_size in your partitionning\n",
        "    for k in range(0, num_complete_minibatches):\n",
        "        mini_batch_X = shuffled_X[k * mini_batch_size : k * mini_batch_size + mini_batch_size,:,:,:]\n",
        "        mini_batch_Y = shuffled_Y[k * mini_batch_size : k * mini_batch_size + mini_batch_size]\n",
        "        mini_batch = (mini_batch_X, mini_batch_Y)\n",
        "        mini_batches.append(mini_batch)\n",
        "\n",
        "    # Handling the end case (last mini-batch < mini_batch_size)\n",
        "    if m % mini_batch_size != 0:\n",
        "        mini_batch_X = shuffled_X[num_complete_minibatches * mini_batch_size : m,:,:,:]\n",
        "        mini_batch_Y = shuffled_Y[num_complete_minibatches * mini_batch_size : m]\n",
        "        mini_batch = (mini_batch_X, mini_batch_Y)\n",
        "        mini_batches.append(mini_batch)\n",
        "\n",
        "    return mini_batches\n"
      ],
      "execution_count": 0,
      "outputs": []
    },
    {
      "metadata": {
        "id": "_YBASTbpbfh2",
        "colab_type": "code",
        "colab": {}
      },
      "cell_type": "code",
      "source": [
        "# create placeholders\n",
        "\n",
        "def create_placeholders(n_H0, n_W0, n_C0):\n",
        "    X = tf.placeholder(tf.float32, shape=(None, n_H0, n_W0, n_C0))\n",
        "    Y = tf.placeholder(tf.float32, shape=(None))\n",
        "    \n",
        "    return X, Y"
      ],
      "execution_count": 0,
      "outputs": []
    },
    {
      "metadata": {
        "id": "5j6g5oNRbfh4",
        "colab_type": "code",
        "colab": {}
      },
      "cell_type": "code",
      "source": [
        "# forward propagation\n",
        "\n",
        "def forward_propagation(X):\n",
        "    \n",
        "    A1 = tf.layers.conv2d(X, filters=128, kernel_size=[3,3], strides = (1,1), \n",
        "                          padding = 'SAME', activation=tf.nn.relu)\n",
        "    #A1 = tf.layers.conv2d(A1, filters=64, kernel_size=[3,3], strides = (1,1), \n",
        "                          #padding = 'SAME', activation=tf.nn.relu)\n",
        "    P1 = tf.layers.max_pooling2d(A1, pool_size=[4, 4], strides=4, padding='SAME')\n",
        "    D1 = tf.layers.dropout(P1, rate=0.25)\n",
        "    D1 = tf.layers.batch_normalization(D1)\n",
        "\n",
        "    \n",
        "    A2 = tf.layers.conv2d(D1, filters=64, kernel_size=[3,3], strides=(1,1),\n",
        "                         padding = 'SAME', activation=tf.nn.relu)\n",
        "    #A2 = tf.layers.conv2d(A2, filters=128, kernel_size=[3,3], strides=(1,1),\n",
        "                         #padding = 'SAME', activation=tf.nn.relu)\n",
        "    P2 = tf.layers.max_pooling2d(A2, pool_size=[4, 4], strides=4, padding='SAME')\n",
        "    D2 = tf.layers.dropout(P2, rate=0.25)\n",
        "    D2 = tf.layers.batch_normalization(D2)\n",
        "    \n",
        "    flat_dim = np.product(D2.get_shape()[1:])\n",
        "    \n",
        "    D2_flat = tf.reshape(D2,shape=[-1,flat_dim])\n",
        "    FC1 = tf.layers.dense(D2_flat, 2048, activation=tf.nn.relu)\n",
        "    D3 = tf.layers.dropout(FC1, rate=0.75)\n",
        "    D3 = tf.layers.batch_normalization(D3)\n",
        "    \n",
        "    Z3 = tf.layers.dense(D2_flat, 10)\n",
        "\n",
        "    return Z3"
      ],
      "execution_count": 0,
      "outputs": []
    },
    {
      "metadata": {
        "id": "UMrnmm0ybfh7",
        "colab_type": "code",
        "colab": {
          "base_uri": "https://localhost:8080/",
          "height": 627
        },
        "outputId": "2cca6b77-4f91-45c1-b3fe-670c04f9e3ba"
      },
      "cell_type": "code",
      "source": [
        "learning_rate = 0.009\n",
        "num_epochs = 60\n",
        "minibatch_size = int(X_train.shape[0]/50)\n",
        "    \n",
        "(m, n_H0, n_W0, n_C0) = X_train.shape                                        \n",
        "costs = []         \n",
        "seed = 0\n",
        "\n",
        "X, Y = create_placeholders(32, 32, 3)\n",
        "Z3 = forward_propagation(X)\n",
        "\n",
        "cost = tf.reduce_mean(tf.nn.sparse_softmax_cross_entropy_with_logits(logits = Z3, labels=tf.cast(Y, dtype=tf.int32)))\n",
        "optimizer = tf.train.AdamOptimizer(learning_rate=learning_rate).minimize(cost)\n",
        "\n",
        "init = tf.global_variables_initializer()\n",
        " \n",
        "with tf.Session() as sess:\n",
        "    sess.run(init)\n",
        "        \n",
        "    for epoch in range(num_epochs):\n",
        "\n",
        "        minibatch_cost = 0.\n",
        "        num_minibatches = int(m / minibatch_size) \n",
        "        seed = seed + 1\n",
        "        minibatches = random_mini_batches(X_train, Y_train, minibatch_size, seed)\n",
        "\n",
        "        for minibatch in minibatches:\n",
        "\n",
        "            (minibatch_X, minibatch_Y) = minibatch\n",
        "            _ , temp_cost = sess.run([optimizer, cost], feed_dict={X: minibatch_X, Y: minibatch_Y})\n",
        "\n",
        "            minibatch_cost += temp_cost / num_minibatches\n",
        "\n",
        "        costs.append(minibatch_cost)\n",
        "\n",
        "        if epoch == 0 or (epoch+1)%5 == 0:\n",
        "            print(\"Cost after epoch %i: %f\" % (epoch+1, minibatch_cost))\n",
        " \n",
        "    correct_prediction = tf.equal(tf.argmax(Z3, 1), tf.cast(Y,\"int64\"))\n",
        "    accuracy = tf.reduce_mean(tf.cast(correct_prediction, \"float\"))\n",
        "    print(\"Training Accuracy:\", accuracy.eval({X: X_train, Y: Y_train}))\n",
        "    print(\"Testing Accuracy:\", accuracy.eval({X: X_test, Y: Y_test}))\n",
        "    \n",
        "    plt.plot(np.squeeze(costs))\n",
        "    plt.ylabel('cost')\n",
        "    plt.xlabel('iterations')\n",
        "    plt.title(\"Learning rate =\" + str(learning_rate))\n",
        "    plt.show()"
      ],
      "execution_count": 10,
      "outputs": [
        {
          "output_type": "stream",
          "text": [
            "WARNING:tensorflow:From <ipython-input-9-98317994d882>:9: dropout (from tensorflow.python.layers.core) is deprecated and will be removed in a future version.\n",
            "Instructions for updating:\n",
            "Use keras.layers.dropout instead.\n",
            "Cost after epoch 1: 2.147490\n",
            "Cost after epoch 5: 1.367638\n",
            "Cost after epoch 10: 1.136447\n",
            "Cost after epoch 15: 0.984797\n",
            "Cost after epoch 20: 0.874554\n",
            "Cost after epoch 25: 0.794989\n",
            "Cost after epoch 30: 0.743803\n",
            "Cost after epoch 35: 0.682577\n",
            "Cost after epoch 40: 0.626602\n",
            "Cost after epoch 45: 0.602179\n",
            "Cost after epoch 50: 0.530149\n",
            "Cost after epoch 55: 0.491573\n",
            "Cost after epoch 60: 0.477016\n",
            "Training Accuracy: 0.85366666\n",
            "Testing Accuracy: 0.6166667\n"
          ],
          "name": "stdout"
        },
        {
          "output_type": "display_data",
          "data": {
            "image/png": "[encoded data removed]",
            "text/plain": [
              "<Figure size 432x288 with 1 Axes>"
            ]
          },
          "metadata": {
            "tags": []
          }
        }
      ]
    },
    {
      "metadata": {
        "id": "oRexN3ZjbfiA",
        "colab_type": "code",
        "colab": {}
      },
      "cell_type": "code",
      "source": [
        ""
      ],
      "execution_count": 0,
      "outputs": []
    }
  ]
}