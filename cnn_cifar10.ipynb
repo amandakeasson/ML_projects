{
  "nbformat": 4,
  "nbformat_minor": 0,
  "metadata": {
    "colab": {
      "name": "cnn_cifar10.ipynb",
      "version": "0.3.2",
      "provenance": []
    },
    "language_info": {
      "codemirror_mode": {
        "name": "ipython",
        "version": 3
      },
      "file_extension": ".py",
      "mimetype": "text/x-python",
      "name": "python",
      "nbconvert_exporter": "python",
      "pygments_lexer": "ipython3",
      "version": "3.6.8"
    },
    "kernelspec": {
      "name": "python3",
      "display_name": "Python 3"
    },
    "accelerator": "GPU"
  },
  "cells": [
    {
      "metadata": {
        "colab_type": "text",
        "id": "EItZAeAcbfho"
      },
      "cell_type": "markdown",
      "source": [
        "# Convolutional Neural Networks"
      ]
    },
    {
      "metadata": {
        "colab_type": "code",
        "id": "I04c9PFJbfhp",
        "colab": {}
      },
      "cell_type": "code",
      "source": [
        "import numpy as np\n",
        "import matplotlib.pyplot as plt\n",
        "import tensorflow as tf\n",
        "\n",
        "%matplotlib inline"
      ],
      "execution_count": 0,
      "outputs": []
    },
    {
      "metadata": {
        "colab_type": "code",
        "id": "OHnawNjVbfht",
        "colab": {}
      },
      "cell_type": "code",
      "source": [
        "# option 1: MNIST\n",
        "(X_train, Y_train), (X_test, Y_test) = tf.keras.datasets.mnist.load_data()\n",
        "X_train = np.reshape(X_train, [-1, 28, 28, 1])/255.\n",
        "X_test = np.reshape(X_test, [-1, 28, 28, 1])/255."
      ],
      "execution_count": 0,
      "outputs": []
    },
    {
      "metadata": {
        "colab_type": "code",
        "id": "Uji6BsH2bfhw",
        "colab": {}
      },
      "cell_type": "code",
      "source": [
        "# option 2: CIFAR10\n",
        "proportion_to_use = 0.3\n",
        "(X_train, Y_train), (X_test, Y_test) = tf.keras.datasets.cifar10.load_data()\n",
        "Y_train = Y_train[0:int(np.shape(Y_train)[0]*proportion_to_use),0]\n",
        "Y_test = Y_test[0:int(np.shape(Y_test)[0]*proportion_to_use),0]\n",
        "X_train = X_train[0:int(np.shape(X_train)[0]*proportion_to_use),:]/255.\n",
        "X_test = X_test[0:int(np.shape(X_test)[0]*proportion_to_use),:]/255."
      ],
      "execution_count": 0,
      "outputs": []
    },
    {
      "metadata": {
        "colab_type": "code",
        "id": "yYrUoyzsbfhz",
        "colab": {}
      },
      "cell_type": "code",
      "source": [
        "def random_mini_batches(X, Y, minibatch_size = 64, seed = 0):\n",
        "\n",
        "    m = X.shape[0]\n",
        "    minibatches = []\n",
        "    np.random.seed(seed)\n",
        "\n",
        "    perm = list(np.random.permutation(m))\n",
        "    permX = X[perm,:,:,:]\n",
        "    permY = Y[perm]\n",
        "\n",
        "    n_full = int(np.floor(m/minibatch_size)) \n",
        "    for k in range(0, n_full):\n",
        "        miniX = permX[k * minibatch_size : k * minibatch_size + minibatch_size,:,:,:]\n",
        "        miniY = permY[k * minibatch_size : k * minibatch_size + minibatch_size]\n",
        "        minibatches.append((miniX, miniY))\n",
        "\n",
        "    if m % minibatch_size != 0:\n",
        "        miniX = permX[n_full * minibatch_size : m,:,:,:]\n",
        "        miniY = permY[n_full * minibatch_size : m]\n",
        "        minibatches.append((miniX, miniY))\n",
        "\n",
        "    return minibatches\n"
      ],
      "execution_count": 0,
      "outputs": []
    },
    {
      "metadata": {
        "colab_type": "code",
        "id": "_YBASTbpbfh2",
        "colab": {}
      },
      "cell_type": "code",
      "source": [
        "# create placeholders\n",
        "\n",
        "def create_placeholders(n_H0, n_W0, n_C0):\n",
        "    X = tf.placeholder(tf.float32, shape=(None, n_H0, n_W0, n_C0))\n",
        "    Y = tf.placeholder(tf.float32, shape=(None))\n",
        "    \n",
        "    return X, Y"
      ],
      "execution_count": 0,
      "outputs": []
    },
    {
      "metadata": {
        "colab_type": "code",
        "id": "5j6g5oNRbfh4",
        "colab": {}
      },
      "cell_type": "code",
      "source": [
        "# forward propagation\n",
        "\n",
        "def forward_propagation(X):\n",
        "    \n",
        "    A1 = tf.layers.conv2d(X, filters=128, kernel_size=[3,3], strides = (1,1), \n",
        "                          padding = 'SAME', activation=tf.nn.relu)\n",
        "    P1 = tf.layers.max_pooling2d(A1, pool_size=[4, 4], strides=4, padding='SAME')\n",
        "    D1 = tf.layers.dropout(P1, rate=0.25)\n",
        "    D1 = tf.layers.batch_normalization(D1)\n",
        "\n",
        "    \n",
        "    A2 = tf.layers.conv2d(D1, filters=64, kernel_size=[3,3], strides=(1,1),\n",
        "                         padding = 'SAME', activation=tf.nn.relu)\n",
        "    P2 = tf.layers.max_pooling2d(A2, pool_size=[4, 4], strides=4, padding='SAME')\n",
        "    D2 = tf.layers.dropout(P2, rate=0.25)\n",
        "    D2 = tf.layers.batch_normalization(D2)\n",
        "    \n",
        "    flat_dim = np.product(D2.get_shape()[1:])\n",
        "    \n",
        "    D2_flat = tf.reshape(D2,shape=[-1,flat_dim])\n",
        "    FC1 = tf.layers.dense(D2_flat, 2048, activation=tf.nn.relu)\n",
        "    D3 = tf.layers.dropout(FC1, rate=0.75)\n",
        "    D3 = tf.layers.batch_normalization(D3)\n",
        "    \n",
        "    Z3 = tf.layers.dense(D2_flat, 10)\n",
        "\n",
        "    return Z3"
      ],
      "execution_count": 0,
      "outputs": []
    },
    {
      "metadata": {
        "colab_type": "code",
        "id": "UMrnmm0ybfh7",
        "outputId": "f4fd94c7-cd92-477e-f9c8-b7a3cad013ee",
        "colab": {
          "base_uri": "https://localhost:8080/",
          "height": 887
        }
      },
      "cell_type": "code",
      "source": [
        "learning_rate = 0.009\n",
        "num_epochs = 60\n",
        "minibatch_size = int(X_train.shape[0]/50)\n",
        "    \n",
        "(m, n_H0, n_W0, n_C0) = X_train.shape                                        \n",
        "costs = []         \n",
        "seed = 0\n",
        "\n",
        "X, Y = create_placeholders(32, 32, 3)\n",
        "Z3 = forward_propagation(X)\n",
        "\n",
        "cost = tf.reduce_mean(tf.nn.sparse_softmax_cross_entropy_with_logits(logits = Z3, labels=tf.cast(Y, dtype=tf.int32)))\n",
        "optimizer = tf.train.AdamOptimizer(learning_rate=learning_rate).minimize(cost)\n",
        "\n",
        "init = tf.global_variables_initializer()\n",
        " \n",
        "with tf.Session() as sess:\n",
        "    sess.run(init)\n",
        "        \n",
        "    for epoch in range(num_epochs):\n",
        "\n",
        "        minibatch_cost = 0.\n",
        "        num_minibatches = int(m / minibatch_size) \n",
        "        seed = seed + 1\n",
        "        minibatches = random_mini_batches(X_train, Y_train, minibatch_size, seed)\n",
        "\n",
        "        for minibatch in minibatches:\n",
        "\n",
        "            (minibatch_X, minibatch_Y) = minibatch\n",
        "            _ , temp_cost = sess.run([optimizer, cost], feed_dict={X: minibatch_X, Y: minibatch_Y})\n",
        "\n",
        "            minibatch_cost += temp_cost / num_minibatches\n",
        "\n",
        "        costs.append(minibatch_cost)\n",
        "\n",
        "        if epoch == 0 or (epoch+1)%5 == 0:\n",
        "            print(\"Cost after epoch %i: %f\" % (epoch+1, minibatch_cost))\n",
        " \n",
        "    correct_prediction = tf.equal(tf.argmax(Z3, 1), tf.cast(Y,\"int64\"))\n",
        "    accuracy = tf.reduce_mean(tf.cast(correct_prediction, \"float\"))\n",
        "    print(\"Training Accuracy:\", accuracy.eval({X: X_train, Y: Y_train}))\n",
        "    print(\"Testing Accuracy:\", accuracy.eval({X: X_test, Y: Y_test}))\n",
        "    \n",
        "    plt.plot(np.squeeze(costs))\n",
        "    plt.ylabel('cost')\n",
        "    plt.xlabel('iterations')\n",
        "    plt.title(\"Learning rate =\" + str(learning_rate))\n",
        "    plt.show()"
      ],
      "execution_count": 7,
      "outputs": [
        {
          "output_type": "stream",
          "text": [
            "WARNING:tensorflow:From <ipython-input-6-5e8e41616052>:5: conv2d (from tensorflow.python.layers.convolutional) is deprecated and will be removed in a future version.\n",
            "Instructions for updating:\n",
            "Use keras.layers.conv2d instead.\n",
            "WARNING:tensorflow:From /usr/local/lib/python3.6/dist-packages/tensorflow/python/framework/op_def_library.py:263: colocate_with (from tensorflow.python.framework.ops) is deprecated and will be removed in a future version.\n",
            "Instructions for updating:\n",
            "Colocations handled automatically by placer.\n",
            "WARNING:tensorflow:From <ipython-input-6-5e8e41616052>:6: max_pooling2d (from tensorflow.python.layers.pooling) is deprecated and will be removed in a future version.\n",
            "Instructions for updating:\n",
            "Use keras.layers.max_pooling2d instead.\n",
            "WARNING:tensorflow:From <ipython-input-6-5e8e41616052>:7: dropout (from tensorflow.python.layers.core) is deprecated and will be removed in a future version.\n",
            "Instructions for updating:\n",
            "Use keras.layers.dropout instead.\n",
            "WARNING:tensorflow:From <ipython-input-6-5e8e41616052>:8: batch_normalization (from tensorflow.python.layers.normalization) is deprecated and will be removed in a future version.\n",
            "Instructions for updating:\n",
            "Use keras.layers.batch_normalization instead.\n",
            "WARNING:tensorflow:From <ipython-input-6-5e8e41616052>:20: dense (from tensorflow.python.layers.core) is deprecated and will be removed in a future version.\n",
            "Instructions for updating:\n",
            "Use keras.layers.dense instead.\n",
            "Cost after epoch 1: 2.147643\n",
            "Cost after epoch 5: 1.398369\n",
            "Cost after epoch 10: 1.214412\n",
            "Cost after epoch 15: 1.083297\n",
            "Cost after epoch 20: 0.998739\n",
            "Cost after epoch 25: 0.917126\n",
            "Cost after epoch 30: 0.873676\n",
            "Cost after epoch 35: 0.840697\n",
            "Cost after epoch 40: 0.788130\n",
            "Cost after epoch 45: 0.772367\n",
            "Cost after epoch 50: 0.726244\n",
            "Cost after epoch 55: 0.728047\n",
            "Cost after epoch 60: 0.686276\n",
            "Training Accuracy: 0.7704667\n",
            "Testing Accuracy: 0.602\n"
          ],
          "name": "stdout"
        },
        {
          "output_type": "display_data",
          "data": {
            "image/png": "[encoded data removed]",
            "text/plain": [
              "<Figure size 432x288 with 1 Axes>"
            ]
          },
          "metadata": {
            "tags": []
          }
        }
      ]
    },
    {
      "metadata": {
        "colab_type": "code",
        "id": "oRexN3ZjbfiA",
        "colab": {}
      },
      "cell_type": "code",
      "source": [
        ""
      ],
      "execution_count": 0,
      "outputs": []
    }
  ]
}