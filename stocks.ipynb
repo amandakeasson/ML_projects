{
 "cells": [
  {
   "cell_type": "code",
   "execution_count": null,
   "metadata": {},
   "outputs": [],
   "source": [
    "# Import modules\n",
    "QUANDL_API_KEY='aztUbU9sqVUmDuxKwzyg'\n",
    "from datetime import datetime, timedelta\n",
    "import pandas as pd\n",
    "import numpy as np\n",
    "import datetime\n",
    "import csv\n",
    "import requests\n",
    "import pandas_datareader.data as web\n",
    "import pandas_datareader as pdr\n",
    "from pandas_datareader import data, wb\n",
    "import quandl\n",
    "quandl.ApiConfig.api_key = QUANDL_API_KEY\n",
    "import matplotlib.pyplot as plt\n",
    "import seaborn as sns\n",
    "from scipy.stats import zscore\n",
    "from scipy.signal import detrend\n",
    "from statsmodels.tsa.seasonal import seasonal_decompose\n",
    "from sklearn.linear_model import LinearRegression\n",
    "import fbprophet\n",
    "\n",
    "%pylab inline\n",
    "import seaborn as sns\n",
    "#sns.set()\n",
    "plt.style.use('seaborn')"
   ]
  },
  {
   "cell_type": "code",
   "execution_count": null,
   "metadata": {},
   "outputs": [],
   "source": [
    "def getstockdata(stock_name):\n",
    "    stock_ind = stocks[stocks['Name'] == stock_name]\n",
    "    y = stock_ind['y'].values\n",
    "    return y \n",
    "\n",
    "def getstock(stock_name):\n",
    "    stock_ind = stocks[stocks['Name'] == stock_name]\n",
    "    return stock_ind"
   ]
  },
  {
   "cell_type": "code",
   "execution_count": null,
   "metadata": {},
   "outputs": [],
   "source": [
    "# Analyze stock data cuz y not \n",
    "# modified code from:\n",
    "    # https://medium.com/@rohanjoseph_91119/stock-analysis-in-python-4e7b7884517a\n",
    "    # https://www.learndatasci.com/tutorials/python-finance-part-yahoo-finance-api-pandas-matplotlib/\n",
    "\n",
    "# define api key for quandl (in account settings)\n",
    "tickers = ['AAPL', 'MSFT', 'GOOGL', 'GM', 'TSLA', 'AMZN', 'KO', 'T', 'INTC', 'BMO', 'SLF', 'RY', 'CM'] # apple, microsoft,\n",
    "scrape_method = 'tickers' # tickers or stock_list (full list)\n",
    "start_date = '2011-01-01'\n",
    "end_date = '2019-01-20'\n",
    "# start = datetime.datetime(2018,1,1); end = datetime.datetime(2018,9,28)\n",
    "\n",
    "# tickers: \n",
    "# '^GSPC', '^DJI', '^IXIC': S&P500, Dow Jones, Nasdaq"
   ]
  },
  {
   "cell_type": "code",
   "execution_count": null,
   "metadata": {},
   "outputs": [],
   "source": [
    "# get le data\n",
    "\n",
    "stocks = pd.DataFrame()\n",
    "stock_names = []\n",
    "\n",
    "if scrape_method == 'stock_list':\n",
    "    sl = 10\n",
    "elif scrape_method == 'tickers':\n",
    "    sl = len(tickers)\n",
    "    stock_list = tickers\n",
    "\n",
    "for i in range(sl):\n",
    "    print(\"Downloading data for\", stock_list[i])\n",
    "    if scrape_method == 'stock_list':\n",
    "        stock = web.DataReader(stock_list[i],\"quandl\",start_date,end_date,access_key= QUANDL_API_KEY)\n",
    "    elif scrape_method == 'tickers':\n",
    "        stock = data.DataReader(stock_list[i], 'yahoo', start_date, end_date)\n",
    "        #stock = quandl.get('WIKI/' + stock_list[i],start_date=start_date, end_date = end_date)\n",
    "    \n",
    "    stock_names.append(stock_list[i])\n",
    "    stock['Name']=stock_list[i]\n",
    "    ds = stock.index\n",
    "    stocks = pd.DataFrame.append(stocks,stock)\n",
    "\n",
    "stocks.reset_index(level=0, inplace = True)\n",
    "stocks = stocks.rename(columns={'Date': 'ds', 'Adj Close': 'y'})"
   ]
  },
  {
   "cell_type": "code",
   "execution_count": null,
   "metadata": {},
   "outputs": [],
   "source": [
    "#Plot stock trends for selected stocks\n",
    "\n",
    "# first plot raw data\n",
    "plt.figure(figsize=(18,8)); \n",
    "leglabels = []\n",
    "for i in range(len(stock_names)):\n",
    "    stock_ind = stocks[stocks['Name'] == stock_names[i]]\n",
    "    y = stock_ind['y']\n",
    "    ds = stock_ind['ds']\n",
    "    y_dt = detrend(y, 'linear', axis = 0)\n",
    "    plt.plot(ds, y)\n",
    "    #plt.plot(np.array([y, y_dt]).T); #plt.legend(stock_names[i])\n",
    "    plt.xticks(rotation=60)\n",
    "\n",
    "plt.legend(stock_names)\n",
    "plt.title('Closing values (absolute)')\n",
    "plt.show()\n",
    "\n",
    "# add 2nd plot with z-scores\n",
    "plt.figure(figsize=(18,8)); \n",
    "for i in range(len(stock_names)):\n",
    "    stock_ind = stocks[stocks['Name'] == stock_names[i]]\n",
    "    y = stock_ind['y']\n",
    "    ds = stock_ind['ds']\n",
    "    y = zscore(y)\n",
    "    # y = y - y[0] # subtract first value so that initial point is 0 for all stocks; easier to compare\n",
    "    plt.plot(ds,y); #plt.legend(stock_names[i])\n",
    "    plt.xticks(rotation=60)\n",
    "\n",
    "plt.legend(stock_names)\n",
    "plt.title('Closing values (Z scores)')\n",
    "plt.show()"
   ]
  },
  {
   "cell_type": "code",
   "execution_count": null,
   "metadata": {},
   "outputs": [],
   "source": [
    "# modeling with Prophet!\n",
    "stock = 'MSFT'\n",
    "stock = getstock(stock)\n",
    "stock_prophet = fbprophet.Prophet(changepoint_prior_scale=0.15)\n",
    "stock_prophet.fit(stock)\n",
    "\n",
    "# Make a future dataframe for 2 years\n",
    "stock_forecast_df = stock_prophet.make_future_dataframe(periods=365 * 2, freq='D')\n",
    "# Make predictions\n",
    "stock_forecast = stock_prophet.predict(stock_forecast_df)"
   ]
  },
  {
   "cell_type": "code",
   "execution_count": null,
   "metadata": {},
   "outputs": [],
   "source": [
    "# plot things\n",
    "stock_prophet.plot(stock_forecast, xlabel = 'Date', ylabel = 'Stock price')\n",
    "plt.title('Stock price: ' + stock);\n",
    "\n",
    "stock_prophet.plot_components(stock_forecast);"
   ]
  },
  {
   "cell_type": "markdown",
   "metadata": {},
   "source": [
    "# Extra stuff"
   ]
  },
  {
   "cell_type": "code",
   "execution_count": null,
   "metadata": {},
   "outputs": [],
   "source": [
    "# Import list of stock names from NSE website\n",
    "with requests.Session() as s:\n",
    "    download = s.get('https://www.nseindia.com/products/content/sec_bhavdata_full.csv')\n",
    "    decoded_content = download.content.decode('utf-8')\n",
    "    cr = csv.reader(decoded_content.splitlines(), delimiter=',')\n",
    "    my_list = pd.DataFrame(list(cr))\n",
    "    \n",
    "#View the top rows\n",
    "#my_list.head()\n",
    "\n",
    "# Clean the downloaded data\n",
    "# Rename the headers\n",
    "new_header = my_list.iloc[0] #grab the first row for the header\n",
    "my_list = my_list[1:] #take the data less the header row\n",
    "my_list = my_list.rename(columns = new_header)\n",
    "\n",
    "# Get only the list of stock names - remove everything else\n",
    "my_list['stock_name'] = \"NSE/\"+ my_list['SYMBOL']\n",
    "stock_list = my_list['stock_name'].tolist()\n",
    "stock_list = list(set(stock_list))\n",
    "print(stock_list)\n"
   ]
  },
  {
   "cell_type": "code",
   "execution_count": null,
   "metadata": {},
   "outputs": [],
   "source": [
    "# seasonal decompose\n",
    "\n",
    "y = getstockdata('KO')\n",
    "result = seasonal_decompose(y, model='additive', freq=1)\n",
    "result.plot()\n",
    "plt.show()"
   ]
  },
  {
   "cell_type": "code",
   "execution_count": null,
   "metadata": {},
   "outputs": [],
   "source": [
    "# differencing\n",
    "\n",
    "y = getstockdata('MSFT')\n",
    "print(y)\n",
    "diff = list()\n",
    "for i in range(1, len(y)):\n",
    "    value = y[i] - y[i - 1]\n",
    "    diff.append(value)\n",
    "plt.plot(diff)\n",
    "plt.show()"
   ]
  },
  {
   "cell_type": "code",
   "execution_count": null,
   "metadata": {},
   "outputs": [],
   "source": [
    "# detrending \n",
    "\n",
    "y = getstockdata('KO')\n",
    "y_dt = detrend(y, 'linear',axis=0)\n",
    "X = [i for i in range(0, len(y))]\n",
    "X = numpy.reshape(X, (len(X), 1))\n",
    "model = LinearRegression()\n",
    "model.fit(X, y)\n",
    "\n",
    "# calculate trend\n",
    "trend = model.predict(X)\n",
    "# plot trend\n",
    "plt.plot(ds,y)\n",
    "plt.plot(ds,trend)\n",
    "plt.show()\n",
    "# detrend\n",
    "detrended = [y[i]-trend[i] for i in range(0, len(y))]\n",
    "\n",
    "# plot detrended\n",
    "plt.plot(ds,detrended)\n",
    "plt.show()"
   ]
  },
  {
   "cell_type": "code",
   "execution_count": null,
   "metadata": {},
   "outputs": [],
   "source": []
  }
 ],
 "metadata": {
  "kernelspec": {
   "display_name": "Python 2",
   "language": "python",
   "name": "python2"
  },
  "language_info": {
   "codemirror_mode": {
    "name": "ipython",
    "version": 3
   },
   "file_extension": ".py",
   "mimetype": "text/x-python",
   "name": "python",
   "nbconvert_exporter": "python",
   "pygments_lexer": "ipython3",
   "version": "3.6.2"
  }
 },
 "nbformat": 4,
 "nbformat_minor": 2
}
